{
 "cells": [
  {
   "cell_type": "markdown",
   "metadata": {},
   "source": [
    "# Virtual Environment Basics\n",
    "https://www.youtube.com/watch?v=KxvKCSwlUv8\n",
    "\n",
    "#### Steps to creating VENVs\n",
    "\n",
    "1. create project folder\n",
    "2. in CMD go to project folder: (command: chdir )\n",
    "3. from the project folder: \n",
    "4. localize desired python install (in my case: _C:\\Python3.12\\python.exe_)\n",
    "5. install venv with command: _C:\\Python3.12\\python.exe -m venv venvName_\n",
    "6. activate venv for the console: _.\\venvName\\Scripts\\activate.bat_\n",
    "\n",
    "#### Notes\n",
    "Should have a **requirements.txt** file - a list of all the dependencies like:\n",
    "\n",
    "flask==1.0.0 (version selections) // to keep the versions in a range you can use: dependency>=1.1.2,<2.0.0 (keeps the most updated version after 1.1.2(inclusive) but before 2.0.0<br>\n",
    "pandas<br>\n",
    "pygame<br>\n",
    "…\n",
    "\n",
    "and a **requirements-dev.txt** file if there are dependencies only used in testing/deployment\n",
    "\n",
    "To install all the dependencies inside the Venv:<br>\n",
    "with the venv activated in console:\n",
    "\n",
    "pip install -r requirements.txt \n",
    "\n",
    "pip install -r requirements-dev.txt "
   ]
  }
 ],
 "metadata": {
  "language_info": {
   "name": "python"
  }
 },
 "nbformat": 4,
 "nbformat_minor": 2
}
