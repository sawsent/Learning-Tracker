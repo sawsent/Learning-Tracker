{
 "cells": [
  {
   "cell_type": "markdown",
   "metadata": {},
   "source": [
    "# NumPy Full Python Course - Data Science Fundamentals\n",
    "https://www.youtube.com/watch?v=4c_mwnYdbhQ"
   ]
  },
  {
   "cell_type": "code",
   "execution_count": null,
   "metadata": {},
   "outputs": [],
   "source": [
    "# the normal way to import numpy is always\n",
    "import numpy as np"
   ]
  },
  {
   "cell_type": "markdown",
   "metadata": {},
   "source": [
    "#### Some differences between simple python lists and np arrays"
   ]
  },
  {
   "cell_type": "code",
   "execution_count": null,
   "metadata": {},
   "outputs": [],
   "source": [
    "# normal list\n",
    "a = [1,2,3,4,5]\n",
    "print(a)\n",
    "print(type(a))\n",
    "print(a[0])\n",
    "print(a[-1])\n",
    "print(a[1:3])"
   ]
  },
  {
   "cell_type": "code",
   "execution_count": null,
   "metadata": {},
   "outputs": [],
   "source": [
    "# numpy array\n",
    "a = np.array([1,2,3,4,5])\n",
    "print(a)\n",
    "print(type(a))\n",
    "print(a[0])\n",
    "print(a[-1])\n",
    "print(a[1:3])\n",
    "a[2] = 10\n",
    "print(a)"
   ]
  },
  {
   "cell_type": "markdown",
   "metadata": {},
   "source": [
    "Normal list commands still work on np arrays, and the normal commands like intervals, indexing, etc are the same. Also the items of the array are still mutable.\n",
    "\n",
    "You can create multi dimentional arrays:"
   ]
  },
  {
   "cell_type": "code",
   "execution_count": null,
   "metadata": {},
   "outputs": [],
   "source": [
    "a_mul = np.array([\n",
    "    [1,2,3],\n",
    "    [4,5,6],\n",
    "    [7,8,9]\n",
    "])\n",
    "\n",
    "print(a_mul)\n",
    "print(a_mul[0])\n",
    "print(a_mul[0, 1])"
   ]
  },
  {
   "cell_type": "markdown",
   "metadata": {},
   "source": [
    "### New methods!\n",
    "\n",
    "*.shape* attribute gives us the shape of the matrix, so for a_mul 3x3 or (3, 3)<br>\n",
    "*.ndim* attribute gives us the depth, or number of dimensions, in a_mul 2<br>\n",
    "*.size* gives us the amount of elements"
   ]
  },
  {
   "cell_type": "code",
   "execution_count": null,
   "metadata": {},
   "outputs": [],
   "source": [
    "print(a_mul.shape)\n",
    "print(a_mul.ndim)\n",
    "print(a_mul.size)"
   ]
  },
  {
   "cell_type": "markdown",
   "metadata": {},
   "source": [
    "all the items in a numpy array get converted to the same data type, so if you have different data types in an array, they will be converted to the smallest data type that can store all items' information. <br>\n",
    "You can see the data type of an array with the _.dtype_ attribute. <br>\n",
    "**Example:**"
   ]
  },
  {
   "cell_type": "code",
   "execution_count": null,
   "metadata": {},
   "outputs": [],
   "source": [
    "type_str = np.array([\n",
    "    [1,2,3],\n",
    "    [4,\"hello\",6],\n",
    "    [7,8,9]\n",
    "])\n",
    "type_int32 = np.array([\n",
    "    [1,2,3],\n",
    "    [4,5,6],\n",
    "    [7,8,9]\n",
    "])\n",
    "\n",
    "print(type_str.dtype)\n",
    "print(type_int32.dtype)\n",
    "\n",
    "print(type(type_str[0, 0])) # individual elements get converted to the same dtype\n",
    "print(type(type_int32[0, 0]))\n"
   ]
  },
  {
   "cell_type": "markdown",
   "metadata": {},
   "source": [
    "You can specify the dtype you want with the keyword ***dtype=***:"
   ]
  },
  {
   "cell_type": "code",
   "execution_count": null,
   "metadata": {},
   "outputs": [],
   "source": [
    "type_str = np.array([\n",
    "    [1,2,3],\n",
    "    [4,\"hello\",6],\n",
    "    [7,8,9]\n",
    "], dtype=np.int32) # this wont work because the str \"hello\" cant be converted into an integer"
   ]
  },
  {
   "cell_type": "code",
   "execution_count": null,
   "metadata": {},
   "outputs": [],
   "source": [
    "type_int32 = np.array([\n",
    "    [1,2,3],\n",
    "    [4,\"5\",6],\n",
    "    [7,8,9]\n",
    "], dtype=np.int32) # the str \"5\" can be converted to int, so it works!\n",
    "print(type_int32[1,1].dtype)"
   ]
  },
  {
   "cell_type": "markdown",
   "metadata": {},
   "source": [
    "Basically, to keep efficiency, stick to 1 datatype in np arrays."
   ]
  },
  {
   "cell_type": "markdown",
   "metadata": {},
   "source": [
    "#### Default arrays\n",
    "1. _np.full(shape, item)_ -> fills the array with the item in the desired shape\n",
    "2. _np.zeros(shape)_ -> fills the desired shape shaped array with 0\n",
    "3. _np.ones(shape)_ -> fills the desired shape shaped array with 1\n",
    "4. _np.empty(shape)_ -> allocates memory for desired shape shaped aray but without giving them any values"
   ]
  },
  {
   "cell_type": "code",
   "execution_count": null,
   "metadata": {},
   "outputs": [],
   "source": [
    "a = np.full((3,3), 9)\n",
    "print(a)\n",
    "a = np.zeros((3,3))\n",
    "print(a)\n",
    "a = np.ones((3,3))\n",
    "print(a)"
   ]
  },
  {
   "cell_type": "code",
   "execution_count": null,
   "metadata": {},
   "outputs": [],
   "source": [
    "b = np.empty((3,3))\n",
    "print(b)"
   ]
  },
  {
   "cell_type": "markdown",
   "metadata": {},
   "source": [
    "##### The _np.arange_ function arranges the numbers in an interval, you give the interval (0-1000) and the step (every 5 numbers)"
   ]
  },
  {
   "cell_type": "code",
   "execution_count": null,
   "metadata": {},
   "outputs": [],
   "source": [
    "a = np.arange(0, 1000, 5)\n",
    "print(a)"
   ]
  },
  {
   "cell_type": "markdown",
   "metadata": {},
   "source": [
    "##### The _np.linspace_ function arranges the numbers in an interval, you give the interval (0-1000)  you give it the amount of values you want in between\n",
    "**keep in mind, both interval barriers are inclusive here!**"
   ]
  },
  {
   "cell_type": "code",
   "execution_count": null,
   "metadata": {},
   "outputs": [],
   "source": [
    "a = np.linspace(0, 1000, 5)\n",
    "print(a)\n",
    "a = np.linspace(0, 1000, 1001)\n",
    "print(a)"
   ]
  },
  {
   "cell_type": "markdown",
   "metadata": {},
   "source": [
    "#### np.nan and np.inf\n",
    "NOT A NUMBER AND INFINITY values, can be useful sometimes, and you can also use: <br>\n",
    "np.isnan(value)<br>\n",
    "np.isinf(value)<br>\n",
    "to see if a value is NOT A NUMBER or INFINITY\n",
    "\n",
    "Division by 0 returns an INF value, and complex numbers return a NAN value."
   ]
  },
  {
   "cell_type": "code",
   "execution_count": null,
   "metadata": {},
   "outputs": [],
   "source": [
    "inf = np.inf\n",
    "nan = np.nan\n",
    "print(np.isnan(nan))\n",
    "print(np.isinf(inf))\n",
    "\n",
    "print(np.isinf(np.array([10]) / 0))\n",
    "print(np.isnan(np.sqrt(-1)))"
   ]
  },
  {
   "cell_type": "markdown",
   "metadata": {},
   "source": [
    "### Mathematical operations: lists vs np arrays\n",
    "np uses algebraic operations (basically)"
   ]
  },
  {
   "cell_type": "code",
   "execution_count": null,
   "metadata": {},
   "outputs": [],
   "source": [
    "l1 = [1,2,3,4,5]\n",
    "l2 = [6,7,8,9,0]\n",
    "a1 = np.array(l1)\n",
    "a2 = np.array(l2)"
   ]
  },
  {
   "cell_type": "code",
   "execution_count": null,
   "metadata": {},
   "outputs": [],
   "source": [
    "# 1. scaling!\n",
    "print(l1 * 5)\n",
    "print(a1 * 5)"
   ]
  },
  {
   "cell_type": "code",
   "execution_count": null,
   "metadata": {},
   "outputs": [],
   "source": [
    "# 2. addition\n",
    "print(l1 + l2) # concatenates the lists\n",
    "print(a1 + a2) # vectorial addition"
   ]
  },
  {
   "cell_type": "code",
   "execution_count": null,
   "metadata": {},
   "outputs": [],
   "source": [
    "# 3. subtraction\n",
    " # print(l1 - l2) -> gives us an error\n",
    "print(a1 - a2) # vectorial addition"
   ]
  },
  {
   "cell_type": "code",
   "execution_count": null,
   "metadata": {},
   "outputs": [],
   "source": [
    "# 1. vectorial multiplication\n",
    "# print(l1 * l2) -> error\n",
    "print(a1 * a2) # vectorial multiplication"
   ]
  },
  {
   "cell_type": "markdown",
   "metadata": {},
   "source": [
    "### Mathematical operations can be used for all the elements of an array at once\n",
    "and they dont mutate the array, simply return the modified array"
   ]
  },
  {
   "cell_type": "code",
   "execution_count": null,
   "metadata": {},
   "outputs": [],
   "source": [
    "a = np.array([[1,2,3],\n",
    "              [4,5,6],\n",
    "              [7,8,9]])\n",
    "print(np.sqrt(a))\n",
    "print(np.sin(a))\n",
    "print(np.cos(a))\n",
    "print(np.log(a))\n",
    "print(a)"
   ]
  },
  {
   "cell_type": "markdown",
   "metadata": {},
   "source": [
    "### Mutating arrays\n",
    "Most methods of an array dontr change the array itself, they return the mutated array!"
   ]
  },
  {
   "cell_type": "code",
   "execution_count": null,
   "metadata": {},
   "outputs": [],
   "source": [
    "a = np.array([1,2,3])"
   ]
  },
  {
   "cell_type": "markdown",
   "metadata": {},
   "source": [
    "1. Appending with _np.append(array, what\\_to\\_append)_"
   ]
  },
  {
   "cell_type": "code",
   "execution_count": null,
   "metadata": {},
   "outputs": [],
   "source": [
    "print(np.append(a, [7,8,9]))\n",
    "print(a, \"Still the same as before\")"
   ]
  },
  {
   "cell_type": "code",
   "execution_count": null,
   "metadata": {},
   "outputs": [],
   "source": [
    "a = np.append(a, [7,8,9])\n",
    "print(a, \"Now it was changed.\")"
   ]
  },
  {
   "cell_type": "markdown",
   "metadata": {},
   "source": [
    "2. Inserting with _np.insert(array, position, array\\_to\\_insert)_"
   ]
  },
  {
   "cell_type": "code",
   "execution_count": null,
   "metadata": {},
   "outputs": [],
   "source": [
    "a = np.insert(a, 3, [4,5,6])\n",
    "print(a)"
   ]
  },
  {
   "cell_type": "markdown",
   "metadata": {},
   "source": [
    "#### 3. deleting with *np.delete(array, index, axis_to_delete_from)*"
   ]
  },
  {
   "cell_type": "code",
   "execution_count": null,
   "metadata": {},
   "outputs": [],
   "source": [
    "a = np.array([[1,2,3],\n",
    "             [4,5,6],\n",
    "             [7,8,9]])"
   ]
  },
  {
   "cell_type": "markdown",
   "metadata": {},
   "source": [
    "If no *\"axis_to_delete_from\"* is specified, it removes the *index* element from the array, and returns a flattened version (one-dimensional) of the array ( i assume it converts to one-dimensional first)"
   ]
  },
  {
   "cell_type": "code",
   "execution_count": null,
   "metadata": {},
   "outputs": [],
   "source": [
    "print(np.delete(a, 1)) # in this case it will remove the element \"2\""
   ]
  },
  {
   "cell_type": "markdown",
   "metadata": {},
   "source": [
    "If an *\"axis_to_delete_from\"* is specified, it removes the entire *\"axis\"* of index *index*<br>\n",
    "In this case: *0=row* / *1=column*"
   ]
  },
  {
   "cell_type": "code",
   "execution_count": null,
   "metadata": {},
   "outputs": [],
   "source": [
    "print(np.delete(a, 1, 0))\n",
    "print(np.delete(a, 1, 1))"
   ]
  },
  {
   "cell_type": "markdown",
   "metadata": {},
   "source": [
    "this can be useful in multidimensional arrays.<br>\n",
    "Example:"
   ]
  },
  {
   "cell_type": "code",
   "execution_count": null,
   "metadata": {},
   "outputs": [],
   "source": [
    "a_mult = np.array([np.full((3,3), 0), \n",
    "                   np.full((3,3), 1), \n",
    "                   np.full((3,3), 2)])\n",
    "print(a_mult, end=\"\\n\\n\")\n",
    "print(np.delete(a_mult, 1, 0), end=\"\\n\\n\")\n",
    "print(np.delete(a_mult, 1, 1), end=\"\\n\\n\")\n",
    "print(np.delete(a_mult, 1, 2))"
   ]
  },
  {
   "cell_type": "markdown",
   "metadata": {},
   "source": [
    "4. RESHAPING with *array.reshape(shape)*<br>\n",
    "it also doesnt mutate the array, just returns the changed value"
   ]
  },
  {
   "cell_type": "code",
   "execution_count": null,
   "metadata": {},
   "outputs": [],
   "source": [
    "a = np.array([[1,2,3,4,5],\n",
    "              [6,7,8,9,10],\n",
    "              [11,12,13,14,15],\n",
    "              [16,17,18,19,20]])\n",
    "print(a.shape)"
   ]
  },
  {
   "cell_type": "markdown",
   "metadata": {},
   "source": [
    "You can reshape it to a compatible shape!, the order stays the same."
   ]
  },
  {
   "cell_type": "code",
   "execution_count": null,
   "metadata": {},
   "outputs": [],
   "source": [
    "print(a.reshape((5,4)), end=\"\\n\\n\")\n",
    "print(a.reshape((20,)), end=\"\\n\\n\")\n",
    "print(a.reshape((2,10)))"
   ]
  },
  {
   "cell_type": "code",
   "execution_count": null,
   "metadata": {},
   "outputs": [],
   "source": [
    "# changing it to 3 dimensions\n",
    "print(a.reshape((2,5,2)), \"\\n\\n\\n\\n\")\n",
    "print(a.reshape((2,2,5)))"
   ]
  },
  {
   "cell_type": "markdown",
   "metadata": {},
   "source": [
    "You can apply the reshape directly with *array.resize(shape)*"
   ]
  },
  {
   "cell_type": "code",
   "execution_count": null,
   "metadata": {},
   "outputs": [],
   "source": [
    "a.resize((2,2,5)) # changes directly\n",
    "print(a)"
   ]
  },
  {
   "cell_type": "markdown",
   "metadata": {},
   "source": [
    "5. Flattening with *array.flatten()* vs *array.ravel()*\n",
    "\n",
    "array.flatten() returns a copy of the array in a flattened version, it creates a new array that is flat"
   ]
  },
  {
   "cell_type": "code",
   "execution_count": null,
   "metadata": {},
   "outputs": [],
   "source": [
    "a = np.array([[1,2,3,4,5],\n",
    "              [6,7,8,9,10],\n",
    "              [11,12,13,14,15],\n",
    "              [16,17,18,19,20]])\n",
    "\n",
    "a_flattened = a.flatten()\n",
    "a_flattened[2] = 100\n",
    "\n",
    "print(a_flattened)\n",
    "print(a)\n",
    "print(\"the original array 'a' wasn't changed, only the new copy 'a_flattened'\")"
   ]
  },
  {
   "cell_type": "markdown",
   "metadata": {},
   "source": [
    "With *array.ravel()*, we get a ***flattened view*** of the array, and any changes we do to the flattened version will apply to the original one too! We only get a different perspective on the array."
   ]
  },
  {
   "cell_type": "code",
   "execution_count": null,
   "metadata": {},
   "outputs": [],
   "source": [
    "a = np.array([[1,2,3,4,5],\n",
    "              [6,7,8,9,10],\n",
    "              [11,12,13,14,15],\n",
    "              [16,17,18,19,20]])\n",
    "\n",
    "a_raveled = a.ravel()\n",
    "a_raveled[2] = 100\n",
    "\n",
    "print(a_raveled)\n",
    "print(a)\n",
    "print(\"the original array 'a' WAS changed\")"
   ]
  },
  {
   "cell_type": "markdown",
   "metadata": {},
   "source": [
    "you can also use the attribute *array.flat* that is basically a.flatten() as an attribute that can be accessed as an iterable function, so we can use it to create an array like so:"
   ]
  },
  {
   "cell_type": "code",
   "execution_count": null,
   "metadata": {},
   "outputs": [],
   "source": [
    "print(a.flat)\n",
    "print(np.array([v for v in a.flat]))"
   ]
  },
  {
   "cell_type": "markdown",
   "metadata": {},
   "source": [
    "7. transposing (swapping axis) with *array.transpose()* or *array.T*"
   ]
  },
  {
   "cell_type": "code",
   "execution_count": null,
   "metadata": {},
   "outputs": [],
   "source": [
    "print(a, end=\"\\n\\n\")\n",
    "print(a.T, end=\"\\n\\n\")\n",
    "print(a.transpose())"
   ]
  },
  {
   "cell_type": "markdown",
   "metadata": {},
   "source": [
    "You can also use *array.swapaxes(axis1, axis2)* to swap 2 specific axes with eachother!"
   ]
  },
  {
   "cell_type": "code",
   "execution_count": null,
   "metadata": {},
   "outputs": [],
   "source": [
    "print(a.swapaxes(0, 1))"
   ]
  },
  {
   "cell_type": "markdown",
   "metadata": {},
   "source": [
    "#### Mixing different arrays"
   ]
  },
  {
   "cell_type": "code",
   "execution_count": null,
   "metadata": {},
   "outputs": [],
   "source": [
    "a1 = [[1,2,3,4,5],\n",
    "      [6,7,8,9,10]]\n",
    "a2 = [[11,12,13,14,15],\n",
    "      [16,17,18,19,20]]"
   ]
  },
  {
   "cell_type": "markdown",
   "metadata": {},
   "source": [
    "1. Concatenating with *np.concatenate(arrays_to_concatenate:tuple, axis)*"
   ]
  },
  {
   "cell_type": "code",
   "execution_count": null,
   "metadata": {},
   "outputs": [],
   "source": [
    "print(np.concatenate((a1, a2), axis=0)) #concatenates row-wise\n",
    "print(np.concatenate((a1, a2), axis=1)) #concatenates column-wise"
   ]
  },
  {
   "cell_type": "markdown",
   "metadata": {},
   "source": [
    "2. Joining arrays with *np.stack((arrays))*<br>\n",
    "This function creates a new dimension with all the *arrays* as items of that dimension.<br>\n",
    "You can also use *np.vstack(arrays)* -> stacks arrays vertically (row-wise)<br>\n",
    "or *np.hstack(arrays)* -> stacks arrays horizontally (column-wise)"
   ]
  },
  {
   "cell_type": "code",
   "execution_count": null,
   "metadata": {},
   "outputs": [],
   "source": [
    "print(np.stack((a1,a2)), \"\\n\\n\\n\")\n",
    "print(np.vstack((a1,a2)), \"\\n\\n\\n\")\n",
    "print(np.hstack((a1,a2)))"
   ]
  },
  {
   "cell_type": "markdown",
   "metadata": {},
   "source": [
    "3. Splitting arrays with *np.split(array, number_of_new_arrays, axis)*"
   ]
  },
  {
   "cell_type": "code",
   "execution_count": null,
   "metadata": {},
   "outputs": [],
   "source": [
    "a = np.array([[1,2,3,4,5,6],\n",
    "              [7,8,9,10,11,12],\n",
    "              [13,14,15,16,17,18],\n",
    "              [19,20,21,22,23,24]])\n",
    "print(np.split(a, 2, axis=0), \"\\n\\n\")\n",
    "print(np.split(a, 4, axis=0), \"\\n\\n\")\n",
    "print(np.split(a, 6, axis=1), \"\\n\\n\")\n",
    "print(np.split(a, 3, axis=1), \"\\n\\n\")"
   ]
  },
  {
   "cell_type": "markdown",
   "metadata": {},
   "source": [
    "### You can get important statistical values with built in functions and methods"
   ]
  },
  {
   "cell_type": "code",
   "execution_count": null,
   "metadata": {},
   "outputs": [],
   "source": [
    "a = np.array([[1,2,3,4,5,6],\n",
    "              [7,8,9,10,11,12],\n",
    "              [13,14,15,16,17,18],\n",
    "              [19,20,21,22,23,24]])\n",
    "print(a.min())\n",
    "print(a.max())\n",
    "print(a.mean())\n",
    "print(a.std()) # standard deviation"
   ]
  },
  {
   "cell_type": "markdown",
   "metadata": {},
   "source": [
    "### Random in numpy"
   ]
  },
  {
   "cell_type": "markdown",
   "metadata": {},
   "source": [
    "You can apply a shape to a random generator with the parameter *size=*"
   ]
  },
  {
   "cell_type": "code",
   "execution_count": null,
   "metadata": {},
   "outputs": [],
   "source": [
    "numbers = np.random.randint(100, size=(5,5,5))\n",
    "print(numbers)"
   ]
  },
  {
   "cell_type": "markdown",
   "metadata": {},
   "source": [
    "### Saving and loading from NumPy"
   ]
  },
  {
   "cell_type": "markdown",
   "metadata": {},
   "source": [
    "you can use the .npy file format or .csv<br>\n",
    "the commands are:<br>\n",
    "*np.save(path, array)* / *array = np.load(path)* -> will save a path.npy file\n",
    "*np.savetxt(path, array, delimiter=\",\")* / *array = np.loadtxt(path, delimiter=\",\")* -> will save as a csv file with the default delimiter \",\""
   ]
  }
 ],
 "metadata": {
  "kernelspec": {
   "display_name": "Python 3",
   "language": "python",
   "name": "python3"
  },
  "language_info": {
   "codemirror_mode": {
    "name": "ipython",
    "version": 3
   },
   "file_extension": ".py",
   "mimetype": "text/x-python",
   "name": "python",
   "nbconvert_exporter": "python",
   "pygments_lexer": "ipython3",
   "version": "3.12.0"
  }
 },
 "nbformat": 4,
 "nbformat_minor": 2
}
