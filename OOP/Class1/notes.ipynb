{
 "cells": [
  {
   "cell_type": "markdown",
   "metadata": {},
   "source": [
    "# Object Oriented Programming with Python - Full Course for Beginners - \n",
    "https://www.youtube.com/watch?v=Ej_02ICOIgs\n"
   ]
  },
  {
   "cell_type": "markdown",
   "metadata": {},
   "source": [
    "no __init__(self):\n",
    "se um dos parametros necessarios tiver um default value, por exemplo: price=1, o python so vai aceitar parametros desse tipo, neste caso, int"
   ]
  },
  {
   "cell_type": "markdown",
   "metadata": {},
   "source": [
    "\n",
    "#### __@staticmethod vs @classmethod__\n",
    "\n",
    "static methods have nothing to do with the instances, but they are related to the class, they are useful methods for the class.\n",
    "\n",
    "class methods should be used to instantiate from a data structure, really good for creating multiple instances from a file or something"
   ]
  },
  {
   "cell_type": "markdown",
   "metadata": {},
   "source": [
    "#### __CHILD AND PARENT CLASSES__\n",
    "\n",
    "Child classes still use the parent's Constructor func (__init__)!\n",
    "but only if there's no child class constructor\n",
    "\n",
    "the super().__init__(a, b, c) function calls the mother's constructor, and needs to be given the mother's parameters (a, b, c)\n",
    "\n",
    "it also enables the use of all parent class parameters\n",
    "\n",
    "Example:"
   ]
  },
  {
   "cell_type": "code",
   "execution_count": null,
   "metadata": {},
   "outputs": [],
   "source": [
    "class Mother:\n",
    "\tdef __init__(self, a, b):\n",
    "\t\tprint(\"used mother constructor\")\n",
    "\n",
    "class Child(Mother):\n",
    "\tdef __init__(self, a, b, c):\n",
    "\t\tsuper().__init__(a, b)\n",
    "\t\tprint(\"used child constructor\")\n",
    "\n",
    "Child(\"A\", \"B\", \"C\")"
   ]
  },
  {
   "cell_type": "markdown",
   "metadata": {},
   "source": [
    "CHILD CLASSES \"STEAL\" THE MOTHER'S  \\_\\_repr__ func, unless they have one specified themselves\n",
    "\n",
    "magic attribute to get the class name (so you don't repeat code): <br>\n",
    "***self.\\_\\_class__.\\_\\_name__***"
   ]
  },
  {
   "cell_type": "markdown",
   "metadata": {},
   "source": [
    "\n",
    "#### **ENCAPSULATION: \"read_only attributes\"**\n",
    "\n",
    "if a an attribute from a class starts with \"__\" (dunderscore), it is basically hidden from the python interpreter outside of the class, so if you have:"
   ]
  },
  {
   "cell_type": "code",
   "execution_count": null,
   "metadata": {},
   "outputs": [],
   "source": [
    "class MyClass1:\n",
    "\tdef __init__(self):\n",
    "\t\tself.__hiddenattribute = \"A\""
   ]
  },
  {
   "cell_type": "markdown",
   "metadata": {},
   "source": [
    "and instantiate"
   ]
  },
  {
   "cell_type": "code",
   "execution_count": null,
   "metadata": {},
   "outputs": [],
   "source": [
    "test_instance = MyClass1()"
   ]
  },
  {
   "cell_type": "markdown",
   "metadata": {},
   "source": [
    "try to access the hidden attribute:"
   ]
  },
  {
   "cell_type": "code",
   "execution_count": null,
   "metadata": {},
   "outputs": [],
   "source": [
    "print(test_instance.__hiddenattribute)"
   ]
  },
  {
   "cell_type": "markdown",
   "metadata": {},
   "source": [
    "IT SHOULD RETURN ERROR: *AttributeError: 'MyClass' object has no attribute '__hiddenattribute'*"
   ]
  },
  {
   "cell_type": "markdown",
   "metadata": {},
   "source": [
    "\n",
    "you can use that + @property func to get a \"read only\" attribute \n",
    "<br> Example:"
   ]
  },
  {
   "cell_type": "code",
   "execution_count": null,
   "metadata": {},
   "outputs": [],
   "source": [
    "class MyClass:\n",
    "\tdef __init__(self, name):\n",
    "\t\tself.__name = name\n",
    "\t\n",
    "\t@property\n",
    "\tdef name(self):\n",
    "\t\treturn self.__name\n",
    "\n",
    "# instantiating:\n",
    "\n",
    "test_instance = MyClass(\"test\")\n",
    "\n",
    "print(test_instance.name)"
   ]
  },
  {
   "cell_type": "markdown",
   "metadata": {},
   "source": [
    "returns \"test\"\n",
    "\n",
    "but you cant change the property: "
   ]
  },
  {
   "cell_type": "code",
   "execution_count": null,
   "metadata": {},
   "outputs": [],
   "source": [
    "test_instance.name = \"something else\" "
   ]
  },
  {
   "cell_type": "markdown",
   "metadata": {},
   "source": [
    "returns \"AttributeError: property 'name' of 'MyClass' object has no setter\"\n",
    "\n",
    "**HOWEVER:** \n",
    "\n",
    "you can still hardcode __attr attributes, and they become accessible to the Interpreter\n",
    "\n",
    "if you do:"
   ]
  },
  {
   "cell_type": "code",
   "execution_count": null,
   "metadata": {},
   "outputs": [],
   "source": [
    "test_inst = MyClass(\"test\")\n",
    "test_inst.__name = \"something else\"\n",
    "print(test_inst.__name)"
   ]
  },
  {
   "cell_type": "markdown",
   "metadata": {},
   "source": [
    "it will return <br>\n",
    "\"something else\"\n",
    "\n",
    "**BUT**: THE @property function *name(self)* **WILL STILL USE THE HIDDEN ATTRIBUTE** __name = \"test\" !\n",
    "\n",
    "so:"
   ]
  },
  {
   "cell_type": "code",
   "execution_count": null,
   "metadata": {},
   "outputs": [],
   "source": [
    "class MyClass:\n",
    "\tdef __init__(self, name):\n",
    "\t\tself.__name = name\n",
    "\t\n",
    "\t@property\n",
    "\tdef name(self):\n",
    "\t\treturn self.__name\n",
    "\n",
    "test_inst = MyClass(\"test\")\n",
    "\n",
    "test_inst.__name = \"something else\"\n",
    "\n",
    "print(test_inst.__name)\n",
    "print(test_inst.name)"
   ]
  },
  {
   "cell_type": "markdown",
   "metadata": {},
   "source": [
    "it returns:\n",
    "\"something else\"\n",
    "\"test\""
   ]
  },
  {
   "cell_type": "markdown",
   "metadata": {},
   "source": [
    "#### Other decorators\n",
    "\n",
    "##### .setter \n",
    "\n",
    "You can add a setter to a property, basically a function that is called when you try to change a property. <br>"
   ]
  },
  {
   "cell_type": "code",
   "execution_count": null,
   "metadata": {},
   "outputs": [],
   "source": [
    "class TestClass:\n",
    "    def __init__(self, name) -> None:\n",
    "        self.__name = name\n",
    "    \n",
    "    @property\n",
    "    def name(self):\n",
    "        return self.__name\n",
    "    \n",
    "    @name.setter\n",
    "    def name(self, value):\n",
    "        self.__name = value"
   ]
  },
  {
   "cell_type": "markdown",
   "metadata": {},
   "source": [
    "If you create an instance and do:"
   ]
  },
  {
   "cell_type": "code",
   "execution_count": null,
   "metadata": {},
   "outputs": [],
   "source": [
    "test_inst = TestClass(\"NAME\")\n",
    "print(test_inst.name)\n",
    "test_inst.name = \"SOMETHING ELSE\""
   ]
  },
  {
   "cell_type": "markdown",
   "metadata": {},
   "source": [
    "the ***=*** (equal sign) calls the *@name.setter* function! <br>\n",
    "with \"SOMETHING ELSE\" as the *value* parameter!\n",
    "\n",
    "because you can still access the **__name** attribute from inside the class, it will be changed to \"SOMETHING ELSE\""
   ]
  },
  {
   "cell_type": "code",
   "execution_count": null,
   "metadata": {},
   "outputs": [],
   "source": [
    "print(test_inst.name)"
   ]
  },
  {
   "cell_type": "markdown",
   "metadata": {},
   "source": [
    "**Let's do another test:**"
   ]
  },
  {
   "cell_type": "code",
   "execution_count": null,
   "metadata": {},
   "outputs": [],
   "source": [
    "class TestClass:\n",
    "    def __init__(self, name) -> None:\n",
    "        self.__name = name\n",
    "    \n",
    "    @property\n",
    "    def name(self):\n",
    "        return self.__name\n",
    "    \n",
    "    @name.setter\n",
    "    def name(self, value):\n",
    "        print(f\"Cant change the name to {value}!\")\n",
    "\n",
    "test_inst = TestClass(\"NAME\")\n",
    "test_inst.name = \"SOMETHING ELSE\"\n",
    "print(test_inst.name)"
   ]
  },
  {
   "cell_type": "markdown",
   "metadata": {},
   "source": [
    "This way, instead of raising an error and stopping the code, we get an alert that the name can't be changed, and it stays the same! <br>\n",
    "You can also use the @setter func to add exceptions and conditions!"
   ]
  },
  {
   "cell_type": "markdown",
   "metadata": {},
   "source": [
    "First, without raising an error, just a warning!"
   ]
  },
  {
   "cell_type": "code",
   "execution_count": null,
   "metadata": {},
   "outputs": [],
   "source": [
    "class TestClass:\n",
    "    def __init__(self, name) -> None:\n",
    "        self.__name = name\n",
    "    \n",
    "    @property\n",
    "    def name(self):\n",
    "        return self.__name\n",
    "    \n",
    "    @name.setter\n",
    "    def name(self, value):\n",
    "        # condition: name has to be short\n",
    "        if len(value) > 10:\n",
    "            print(f\"The name you are trying to set is too long!, name is still {self.__name}\")\n",
    "        else:\n",
    "            self.__name = value\n",
    "\n",
    "test_inst = TestClass(\"NAME\")"
   ]
  },
  {
   "cell_type": "code",
   "execution_count": null,
   "metadata": {},
   "outputs": [],
   "source": [
    "test_inst.name = \"SOMETHING ELSE\"\n",
    "print(test_inst.name)"
   ]
  },
  {
   "cell_type": "code",
   "execution_count": null,
   "metadata": {},
   "outputs": [],
   "source": [
    "test_inst.name = \"SHORT\"\n",
    "print(test_inst.name)"
   ]
  },
  {
   "cell_type": "markdown",
   "metadata": {},
   "source": [
    "Or you can decide to raise exception!"
   ]
  },
  {
   "cell_type": "code",
   "execution_count": null,
   "metadata": {},
   "outputs": [],
   "source": [
    "class TestClass:\n",
    "    def __init__(self, name) -> None:\n",
    "        self.__name = name\n",
    "    \n",
    "    @property\n",
    "    def name(self):\n",
    "        return self.__name\n",
    "    \n",
    "    @name.setter\n",
    "    def name(self, value):\n",
    "        # condition: name has to be short\n",
    "        if len(value) > 10:\n",
    "            raise Exception(f\"The name '{value}' is too long!\")\n",
    "        else:\n",
    "            self.__name = value\n",
    "\n",
    "test_inst = TestClass(\"NAME\")\n",
    "\n",
    "test_inst.name = \"SOMETHING ELSE\""
   ]
  },
  {
   "cell_type": "markdown",
   "metadata": {},
   "source": [
    "## **OOP Principles**"
   ]
  },
  {
   "cell_type": "markdown",
   "metadata": {},
   "source": [
    "### Principle 1: Encapsulation\n",
    "\n",
    "Encapsulation means restricting access to class attributes, so you can't change them directly, and using methods to allow those changes, where you can add conditionals, and generally have more control over how those attributes can be changed.\n",
    "\n",
    "**Example:**"
   ]
  },
  {
   "cell_type": "code",
   "execution_count": null,
   "metadata": {},
   "outputs": [],
   "source": [
    "class TestClass:\n",
    "    def __init__(self, price):\n",
    "        self.__price = price # unaccessible attr __price\n",
    "    \n",
    "    # making it accessible as a read only attr\n",
    "    @property\n",
    "    def price(self):\n",
    "        return self.__price\n",
    "    \n",
    "    # adding a way to change it, with conditions\n",
    "    def morph_price(self, value: float, type: str):\n",
    "        if type == 'add':\n",
    "            self.__price += value\n",
    "        elif type == 'subtract':\n",
    "            self.__price -= value\n",
    "        elif type == 'multiply':\n",
    "            self.__price = self.__price * value\n",
    "        elif type == 'divide':\n",
    "            self.__price = self.__price / value\n",
    "        else:\n",
    "            raise Exception(f\"No such type of morph: '{type}'\\n \\\n",
    "                            Available types are: 'add', 'subtract', multiply', 'divide'\")\n",
    "\n",
    "test_inst = TestClass(10)"
   ]
  },
  {
   "cell_type": "markdown",
   "metadata": {},
   "source": [
    "Now we have an attr that cant be changed directly: _price_, but we can morph it using the *morph_price* func!\n",
    "\n",
    "If we try changing it directly, it won't work!"
   ]
  },
  {
   "cell_type": "code",
   "execution_count": null,
   "metadata": {},
   "outputs": [],
   "source": [
    "test_inst.price = 12"
   ]
  },
  {
   "cell_type": "code",
   "execution_count": null,
   "metadata": {},
   "outputs": [],
   "source": [
    "test_inst.morph_price(10, 'add')\n",
    "print(test_inst.price)\n",
    "test_inst.morph_price(10, 'subtract')\n",
    "print(test_inst.price)\n",
    "test_inst.morph_price(10, 'multiply')\n",
    "print(test_inst.price)\n",
    "test_inst.morph_price(10, 'divide')\n",
    "print(test_inst.price)"
   ]
  },
  {
   "cell_type": "code",
   "execution_count": null,
   "metadata": {},
   "outputs": [],
   "source": [
    "test_inst.morph_price(10, 'root')"
   ]
  },
  {
   "cell_type": "markdown",
   "metadata": {},
   "source": [
    "### Principle 2: Abstraction\n",
    "The main principle of Abstraction is basically hiding unnecessary attributes, and making only whats needed visible.\n",
    "\n",
    "***\"You should hide unnecessary information from the instances!\"***\n",
    "\n",
    "For example, in a bigger picture method that requires multiple steps, the smaller steps shouldn't be accessible by the instance!\n",
    "\n",
    "*Example:*"
   ]
  },
  {
   "cell_type": "code",
   "execution_count": null,
   "metadata": {},
   "outputs": [],
   "source": [
    "class badTest:\n",
    "\n",
    "    def __init__(self) -> None:\n",
    "        pass\n",
    "\n",
    "    def achieve_something(self):\n",
    "        self.step_1()\n",
    "        self.step_2()\n",
    "        self.step_3()\n",
    "        self.step_4()\n",
    "        print(\"You have achieved something\")\n",
    "\n",
    "    def step_1(self):\n",
    "        print(\"you did step 1\")\n",
    "    \n",
    "    def step_2(self):\n",
    "        print(\"you did step 2\")\n",
    "    \n",
    "    def step_3(self):\n",
    "        print(\"you did step 3\")\n",
    "    \n",
    "    def step_4(self):\n",
    "        print(\"you did step 4\")\n",
    "\n",
    "test_inst = badTest()"
   ]
  },
  {
   "cell_type": "markdown",
   "metadata": {},
   "source": [
    "This way, the instance can not only access the process (*achieve_something()*), but also the steps. <br>\n",
    "The instance can call:"
   ]
  },
  {
   "cell_type": "code",
   "execution_count": null,
   "metadata": {},
   "outputs": [],
   "source": [
    "test_inst.achieve_something()"
   ]
  },
  {
   "cell_type": "code",
   "execution_count": null,
   "metadata": {},
   "outputs": [],
   "source": [
    "test_inst.step_3()"
   ]
  },
  {
   "cell_type": "markdown",
   "metadata": {},
   "source": [
    "on a good Abstract principled class, the steps would be hidden (by adding double underscore before the name!):"
   ]
  },
  {
   "cell_type": "code",
   "execution_count": null,
   "metadata": {},
   "outputs": [],
   "source": [
    "class goodTest:\n",
    "\n",
    "    def __init__(self) -> None:\n",
    "        pass\n",
    "\n",
    "    def achieve_something(self):\n",
    "        self.__step_1()\n",
    "        self.__step_2()\n",
    "        self.__step_3()\n",
    "        self.__step_4()\n",
    "        print(\"You have achieved something\")\n",
    "\n",
    "    def __step_1(self):\n",
    "        print(\"you did step 1\")\n",
    "    \n",
    "    def __step_2(self):\n",
    "        print(\"you did step 2\")\n",
    "    \n",
    "    def __step_3(self):\n",
    "        print(\"you did step 3\")\n",
    "    \n",
    "    def __step_4(self):\n",
    "        print(\"you did step 4\")\n",
    "\n",
    "test_inst = goodTest()"
   ]
  },
  {
   "cell_type": "code",
   "execution_count": null,
   "metadata": {},
   "outputs": [],
   "source": [
    "# You can achieve something\n",
    "test_inst.achieve_something()"
   ]
  },
  {
   "cell_type": "code",
   "execution_count": null,
   "metadata": {},
   "outputs": [],
   "source": [
    "# Now if you try to access the steps:\n",
    "test_inst.__step_1()"
   ]
  },
  {
   "cell_type": "markdown",
   "metadata": {},
   "source": [
    "### Principle 3: Inheritance\n",
    "Allows us to reuse code throughout.\n",
    "\n",
    "_Keeping the good class from before:_"
   ]
  },
  {
   "cell_type": "code",
   "execution_count": null,
   "metadata": {},
   "outputs": [],
   "source": [
    "class goodChild(goodTest):\n",
    "    def __init__(self) -> None:\n",
    "        super().__init__()\n",
    "\n",
    "test_child = goodChild()"
   ]
  },
  {
   "cell_type": "markdown",
   "metadata": {},
   "source": [
    "We can still achieve something because it inherited the methods from it's parent class!"
   ]
  },
  {
   "cell_type": "code",
   "execution_count": null,
   "metadata": {},
   "outputs": [],
   "source": [
    "test_child.achieve_something()"
   ]
  },
  {
   "cell_type": "markdown",
   "metadata": {},
   "source": [
    "### Principle 4: Polymorphism\n",
    "Use of a single type entity to represent different types in different scenarios.\n",
    "\n",
    "A great example: The len() func: it can handle strings, lists, etc."
   ]
  },
  {
   "cell_type": "code",
   "execution_count": 39,
   "metadata": {},
   "outputs": [
    {
     "name": "stdout",
     "output_type": "stream",
     "text": [
      "4\n",
      "2\n"
     ]
    }
   ],
   "source": [
    "print(len('four'))\n",
    "print(len(['four', 'five']))"
   ]
  },
  {
   "cell_type": "markdown",
   "metadata": {},
   "source": [
    "Inheritance and polymorphism go hand in hand. for example, Parent methods should be available throughout all the child classes, even if the children are slightly different!"
   ]
  }
 ],
 "metadata": {
  "kernelspec": {
   "display_name": "Python 3",
   "language": "python",
   "name": "python3"
  },
  "language_info": {
   "codemirror_mode": {
    "name": "ipython",
    "version": 3
   },
   "file_extension": ".py",
   "mimetype": "text/x-python",
   "name": "python",
   "nbconvert_exporter": "python",
   "pygments_lexer": "ipython3",
   "version": "3.12.0"
  }
 },
 "nbformat": 4,
 "nbformat_minor": 2
}
