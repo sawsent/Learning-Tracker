{
 "cells": [
  {
   "cell_type": "markdown",
   "metadata": {},
   "source": [
    "Object Oriented Programming with Python - Full Course for Beginners - \n",
    "https://www.youtube.com/watch?v=Ej_02ICOIgs\n"
   ]
  },
  {
   "cell_type": "markdown",
   "metadata": {},
   "source": [
    "no __init__(self):\n",
    "se um dos parametros necessarios tiver um default value, por exemplo: price=1, o python so vai aceitar parametros desse tipo, neste caso, int"
   ]
  },
  {
   "cell_type": "markdown",
   "metadata": {},
   "source": [
    "\n",
    "#### __@staticmethod vs @classmethod__\n",
    "\n",
    "static methods have nothing to do with the instances, but they are related to the class, they are useful methods for the class.\n",
    "\n",
    "class methods should be used to instantiate from a data structure, really good for creating multiple instances from a file or something"
   ]
  },
  {
   "cell_type": "markdown",
   "metadata": {},
   "source": [
    "#### __CHILD AND PARENT CLASSES__\n",
    "\n",
    "Child classes still use the parent's Constructor func (__init__)!\n",
    "but only if there's no child class constructor\n",
    "\n",
    "the super().__init__(a, b, c) function calls the mother's constructor, and needs to be given the mother's parameters (a, b, c)\n",
    "\n",
    "it also enables the use of all parent class parameters\n",
    "\n",
    "Example:"
   ]
  },
  {
   "cell_type": "code",
   "execution_count": null,
   "metadata": {},
   "outputs": [],
   "source": [
    "class Mother:\n",
    "\tdef __init__(self, a, b):\n",
    "\t\tprint(\"used mother constructor\")\n",
    "\n",
    "class Child(Mother):\n",
    "\tdef __init__(self, a, b, c):\n",
    "\t\tsuper().__init__(a, b)\n",
    "\t\tprint(\"used child constructor\")\n",
    "\n",
    "Child(\"A\", \"B\", \"C\")"
   ]
  },
  {
   "cell_type": "markdown",
   "metadata": {},
   "source": [
    "CHILD CLASSES \"STEAL\" THE MOTHER'S  \\_\\_repr__ func, unless they have one specified themselves\n",
    "\n",
    "magic attribute to get the class name (so you don't repeat code): <br>\n",
    "***self.\\_\\_class__.\\_\\_name__***"
   ]
  },
  {
   "cell_type": "markdown",
   "metadata": {},
   "source": [
    "\n",
    "#### **ENCAPSULATION: \"read_only attributes\"**\n",
    "\n",
    "if a an attribute from a class starts with \"__\" (dunderscore), it is basically hidden from the python interpreter outside of the class, so if you have:"
   ]
  },
  {
   "cell_type": "code",
   "execution_count": null,
   "metadata": {},
   "outputs": [],
   "source": [
    "class MyClass1:\n",
    "\tdef __init__(self):\n",
    "\t\tself.__hiddenattribute = \"A\""
   ]
  },
  {
   "cell_type": "markdown",
   "metadata": {},
   "source": [
    "and instantiate"
   ]
  },
  {
   "cell_type": "code",
   "execution_count": null,
   "metadata": {},
   "outputs": [],
   "source": [
    "test_instance = MyClass1()"
   ]
  },
  {
   "cell_type": "markdown",
   "metadata": {},
   "source": [
    "try to access the hidden attribute:"
   ]
  },
  {
   "cell_type": "code",
   "execution_count": null,
   "metadata": {},
   "outputs": [],
   "source": [
    "print(test_instance.__hiddenattribute)"
   ]
  },
  {
   "cell_type": "markdown",
   "metadata": {},
   "source": [
    "IT SHOULD RETURN ERROR: *AttributeError: 'MyClass' object has no attribute '__hiddenattribute'*"
   ]
  },
  {
   "cell_type": "markdown",
   "metadata": {},
   "source": [
    "\n",
    "you can use that + @property func to get a \"read only\" attribute \n",
    "<br> Example:"
   ]
  },
  {
   "cell_type": "code",
   "execution_count": null,
   "metadata": {},
   "outputs": [],
   "source": [
    "class MyClass:\n",
    "\tdef __init__(self, name):\n",
    "\t\tself.__name = name\n",
    "\t\n",
    "\t@property\n",
    "\tdef name(self):\n",
    "\t\treturn self.__name\n",
    "\n",
    "# instantiating:\n",
    "\n",
    "test_instance = MyClass(\"test\")\n",
    "\n",
    "print(test_instance.name)"
   ]
  },
  {
   "cell_type": "markdown",
   "metadata": {},
   "source": [
    "returns \"test\"\n",
    "\n",
    "but you cant change the property: "
   ]
  },
  {
   "cell_type": "code",
   "execution_count": null,
   "metadata": {},
   "outputs": [],
   "source": [
    "test_instance.name = \"something else\" "
   ]
  },
  {
   "cell_type": "markdown",
   "metadata": {},
   "source": [
    "returns \"AttributeError: property 'name' of 'MyClass' object has no setter\"\n",
    "\n",
    "**HOWEVER:** \n",
    "\n",
    "you can still hardcode __attr attributes, and they become accessible to the Interpreter\n",
    "\n",
    "if you do:"
   ]
  },
  {
   "cell_type": "code",
   "execution_count": null,
   "metadata": {},
   "outputs": [],
   "source": [
    "test_inst = MyClass(\"test\")\n",
    "test_inst.__name = \"something else\"\n",
    "print(test_inst.__name)"
   ]
  },
  {
   "cell_type": "markdown",
   "metadata": {},
   "source": [
    "it will return <br>\n",
    "\"something else\"\n",
    "\n",
    "**BUT**: THE @property function *name(self)* **WILL STILL USE THE HIDDEN ATTRIBUTE** __name = \"test\" !\n",
    "\n",
    "so:"
   ]
  },
  {
   "cell_type": "code",
   "execution_count": null,
   "metadata": {},
   "outputs": [],
   "source": [
    "class MyClass:\n",
    "\tdef __init__(self, name):\n",
    "\t\tself.__name = name\n",
    "\t\n",
    "\t@property\n",
    "\tdef name(self):\n",
    "\t\treturn self.__name\n",
    "\n",
    "test_inst = MyClass(\"test\")\n",
    "\n",
    "test_inst.__name = \"something else\"\n",
    "\n",
    "print(test_inst.__name)\n",
    "print(test_inst.name)"
   ]
  },
  {
   "cell_type": "markdown",
   "metadata": {},
   "source": [
    "it returns:\n",
    "\"something else\"\n",
    "\"test\""
   ]
  }
 ],
 "metadata": {
  "kernelspec": {
   "display_name": "Python 3",
   "language": "python",
   "name": "python3"
  },
  "language_info": {
   "codemirror_mode": {
    "name": "ipython",
    "version": 3
   },
   "file_extension": ".py",
   "mimetype": "text/x-python",
   "name": "python",
   "nbconvert_exporter": "python",
   "pygments_lexer": "ipython3",
   "version": "3.12.0"
  }
 },
 "nbformat": 4,
 "nbformat_minor": 2
}
